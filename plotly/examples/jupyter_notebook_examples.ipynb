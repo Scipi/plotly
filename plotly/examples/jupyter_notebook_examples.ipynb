{
 "cells": [
  {
   "cell_type": "code",
   "execution_count": 2,
   "metadata": {},
   "outputs": [],
   "source": [
    ":dep plotly = { version = \">=0.6.0\" }\n",
    ":dep itertools-num = \"0.1.3\""
   ]
  },
  {
   "cell_type": "code",
   "execution_count": 3,
   "metadata": {},
   "outputs": [],
   "source": [
    "extern crate plotly;\n",
    "extern crate rand_distr;\n",
    "extern crate itertools_num;\n",
    "extern crate itertools;"
   ]
  },
  {
   "cell_type": "code",
   "execution_count": 4,
   "metadata": {
    "scrolled": true
   },
   "outputs": [],
   "source": [
    "use itertools_num::linspace;\n",
    "use plotly::common::{\n",
    "    ColorScale, ColorScalePalette, DashType, Fill, Font, Line, LineShape, Marker, Mode, Title,\n",
    "};\n",
    "use plotly::layout::{Axis, BarMode, Layout, Legend, TicksDirection};\n",
    "use plotly::{Bar, NamedColor, Plot, Rgb, Rgba, Scatter};\n",
    "use rand_distr::{Distribution, Normal, Uniform};"
   ]
  },
  {
   "cell_type": "code",
   "execution_count": 7,
   "metadata": {
    "scrolled": true
   },
   "outputs": [
    {
     "data": {
      "text/html": [
       "<div>\n",
       "    <div id=\"Q3JtVbLDAPgE11vgP9gI\" class=\"plotly-graph-div\" style=\"height:100%; width:100%;\"></div>\n",
       "    <script type=\"text/javascript\">\n",
       "        require(['https://cdn.plot.ly/plotly-1.54.6.min.js'], function(Plotly) {\n",
       "            window.PLOTLYENV=window.PLOTLYENV || {};\n",
       "\n",
       "            if (document.getElementById(\"Q3JtVbLDAPgE11vgP9gI\")) {\n",
       "                var trace_0 = {\"type\":\"scatter\",\"mode\":\"markers\",\"x\":[1,2,3,4,5,6,7,8,9,10],\"y\":[1.0,4.0,9.0,16.0,25.0,36.0,49.0,64.0,81.0,100.0]};\n",
       "var data = [trace_0];\n",
       "var layout = {\"height\":525};\n",
       "                Plotly.newPlot(\n",
       "                    'Q3JtVbLDAPgE11vgP9gI',\n",
       "                    data,\n",
       "                    layout,\n",
       "                    {\"responsive\": true}\n",
       "                ).then(function(){\n",
       "                    var gd = document.getElementById('Q3JtVbLDAPgE11vgP9gI');\n",
       "                    var x = new MutationObserver(function (mutations, observer) { {\n",
       "                            var display = window.getComputedStyle(gd).display;\n",
       "                            if (!display || display === 'none') { {\n",
       "                                console.log([gd, 'removed!']);\n",
       "                                Plotly.purge(gd);\n",
       "                                observer.disconnect();\n",
       "                            } }\n",
       "                    } });\n",
       "\n",
       "                    // Listen for the removal of the full notebook cells\n",
       "                    var notebookContainer = gd.closest('#notebook-container');\n",
       "                    if (notebookContainer) { {\n",
       "                        x.observe(notebookContainer, {childList: true});\n",
       "                    } }\n",
       "\n",
       "                    // Listen for the clearing of the current output cell\n",
       "                    var outputEl = gd.closest('.output');\n",
       "                    if (outputEl) { {\n",
       "                        x.observe(outputEl, {childList: true});\n",
       "                    } } })\n",
       "            };\n",
       "        });\n",
       "            </script>\n",
       "</div>"
      ]
     },
     "execution_count": 7,
     "metadata": {},
     "output_type": "execute_result"
    }
   ],
   "source": [
    "let n: usize = 100;\n",
    "let t = vec![1,2,3,4,5,6,7,8,9,10];\n",
    "let y = t.iter().map(|v| (*v as f64).powf(2.0)).collect::<Vec<f64>>();\n",
    "let trace = Scatter::new(t,y).mode(Mode::Markers);\n",
    "let mut plot = Plot::new();\n",
    "plot.add_trace(trace);\n",
    "let layout = Layout::new().height(525);\n",
    "plot.set_layout(layout);\n",
    "plot.notebook_display();"
   ]
  },
  {
   "cell_type": "code",
   "execution_count": 9,
   "metadata": {},
   "outputs": [
    {
     "name": "stderr",
     "output_type": "stream",
     "text": [
      "thread '<unnamed>' panicked at 'Foo', src/lib.rs:154:1\n",
      "stack backtrace:\n",
      "   0: std::panicking::begin_panic\n",
      "   1: run_user_code_7\n",
      "   2: evcxr::runtime::Runtime::run_loop\n",
      "   3: evcxr::runtime::runtime_hook\n",
      "   4: evcxr_jupyter::main\n",
      "note: Some details are omitted, run with `RUST_BACKTRACE=full` for a verbose backtrace.\n",
      "Segmentation fault.\n",
      "   0: evcxr::runtime::Runtime::install_crash_handlers::segfault_handler\n",
      "   1: <unknown>\n",
      "   2: core::ptr::drop_in_place\n",
      "             at /rustc/7eac88abb2e57e752f3302f02be5f3ce3d7adfb4/library/core/src/ptr/mod.rs:175:1\n",
      "      core::ptr::drop_in_place\n",
      "             at /rustc/7eac88abb2e57e752f3302f02be5f3ce3d7adfb4/library/core/src/ptr/mod.rs:175:1\n",
      "      core::result::Result<T,E>::unwrap_or\n",
      "             at /rustc/7eac88abb2e57e752f3302f02be5f3ce3d7adfb4/library/core/src/result.rs:805:5\n",
      "      std::rt::lang_start_internal\n",
      "             at /rustc/7eac88abb2e57e752f3302f02be5f3ce3d7adfb4/library/std/src/rt.rs:54:9\n",
      "   3: main\n",
      "   4: __libc_start_main\n",
      "   5: _start\n",
      "\n"
     ]
    },
    {
     "ename": "Error",
     "evalue": "Child process terminated with status: signal: 6",
     "output_type": "error",
     "traceback": [
      "Child process terminated with status: signal: 6"
     ]
    }
   ],
   "source": [
    "panic! (\"Foo\")"
   ]
  },
  {
   "cell_type": "code",
   "execution_count": null,
   "metadata": {},
   "outputs": [],
   "source": []
  }
 ],
 "metadata": {
  "kernelspec": {
   "display_name": "Rust",
   "language": "rust",
   "name": "rust"
  },
  "language_info": {
   "codemirror_mode": "rust",
   "file_extension": ".rs",
   "mimetype": "text/rust",
   "name": "Rust",
   "pygment_lexer": "rust",
   "version": ""
  }
 },
 "nbformat": 4,
 "nbformat_minor": 4
}
